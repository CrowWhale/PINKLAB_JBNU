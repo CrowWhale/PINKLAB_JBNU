{
 "cells": [
  {
   "cell_type": "code",
   "execution_count": null,
   "metadata": {},
   "outputs": [],
   "source": [
    "import matplotlib.pyplot as plt\n",
    "import matplotlib.image as mpimg\n",
    "import cv2\n",
    "%matplotlib inline\n",
    "\n",
    "img = mpimg.imread('road_img.jpg')\n",
    "\n",
    "plt.figure(figsize=(10,8))\n",
    "plt.imshow(img)\n",
    "plt.show()"
   ]
  },
  {
   "cell_type": "code",
   "execution_count": null,
   "metadata": {},
   "outputs": [],
   "source": [
    "def grayscale(img):\n",
    "    return cv2.cvtColor(img, cv2.COLOR_RGB2GRAY)\n",
    "\n",
    "gray = grayscale(img)\n",
    "\n",
    "plt.figure(figsize=(10, 8))\n",
    "plt.imshow(gray, cmap='gray')\n",
    "plt.show()"
   ]
  },
  {
   "cell_type": "code",
   "execution_count": null,
   "metadata": {},
   "outputs": [],
   "source": [
    "def gaussian_blur(img, kernel_size):\n",
    "    return cv2.GaussianBlur(img, (kernel_size, kernel_size), 0)\n",
    "\n",
    "kernel_size = 5\n",
    "blur_gray = gaussian_blur(gray, kernel_size)\n",
    "\n",
    "plt.figure(figsize=(10, 8))\n",
    "plt.imshow(gray, cmap='gray')\n",
    "plt.show()"
   ]
  },
  {
   "cell_type": "code",
   "execution_count": null,
   "metadata": {},
   "outputs": [],
   "source": [
    "def canny(img, low_threshold, high_threshold):\n",
    "    \"\"\"Applies the Canny transform\"\"\"\n",
    "    return cv2.Canny(img, low_threshold, high_threshold)\n",
    "\n",
    "low_threshold = 50\n",
    "high_threshold = 450\n",
    "edges = canny(blur_gray, low_threshold, high_threshold)\n",
    "\n",
    "plt.figure(figsize=(10, 8))\n",
    "plt.imshow(edges, cmap='gray')\n",
    "plt.show()"
   ]
  },
  {
   "cell_type": "code",
   "execution_count": null,
   "metadata": {},
   "outputs": [],
   "source": [
    "import numpy as np\n",
    "\n",
    "mask = np.zeros_like(img)\n",
    "\n",
    "plt.figure(figsize=(10,8))\n",
    "plt.imshow(mask, cmap='gray')\n",
    "plt.show()"
   ]
  },
  {
   "cell_type": "code",
   "execution_count": null,
   "metadata": {},
   "outputs": [],
   "source": [
    "if len(img.shape) > 2:\n",
    "    channel_count = img.shape[2]\n",
    "    ignore_mask_color = (255,) * channel_count\n",
    "else:\n",
    "    ignore_mask_color = 255\n",
    "\n",
    "imshape = img.shape\n",
    "print(imshape)\n",
    "\n",
    "vertices = np.array([[(0, 125),\n",
    "                    (100, 80),\n",
    "                    (180, 80),\n",
    "                    (imshape[1], 175)]], dtype=np.int32)\n",
    "\n",
    "cv2.fillPoly(mask, vertices, ignore_mask_color)\n",
    "\n",
    "plt.figure(figsize=(10,8))\n",
    "plt.imshow(mask, cmap='gray')\n",
    "plt.show()"
   ]
  },
  {
   "cell_type": "code",
   "execution_count": null,
   "metadata": {},
   "outputs": [],
   "source": [
    "def region_of_interest(img, vertices):\n",
    "\n",
    "    mask = np.zeros_like(img)\n",
    "\n",
    "    if len(img.shape) > 2:\n",
    "        channel_count = img.shape[2]\n",
    "        ignore_mask_color = (255,) * channel_count\n",
    "    else:\n",
    "        ignore_mask_color = 255\n",
    "\n",
    "    cv2.fillPoly(mask, vertices, ignore_mask_color)\n",
    "\n",
    "    masked_image = cv2.bitwise_and(img, mask)\n",
    "    \n",
    "    return masked_image"
   ]
  },
  {
   "cell_type": "code",
   "execution_count": null,
   "metadata": {},
   "outputs": [],
   "source": [
    "imshape = img.shape\n",
    "\n",
    "height = imshape[0]\n",
    "width = imshape[1]\n",
    "\n",
    "vertices = np.array([[(0, 125),\n",
    "                    (100, 80),\n",
    "                    (180, 80),\n",
    "                    (imshape[1], 175)]], dtype=np.int32)\n",
    "\n",
    "mask = region_of_interest(edges, vertices)\n",
    "\n",
    "plt.figure(figsize=(10,8))\n",
    "plt.imshow(mask, cmap='gray')\n",
    "plt.show()"
   ]
  },
  {
   "cell_type": "code",
   "execution_count": null,
   "metadata": {},
   "outputs": [],
   "source": [
    "def draw_lines(img, lines, color=[255, 0, 0], thickness=3):\n",
    "    for line in lines:\n",
    "        for x1, y1, x2, y2 in line:\n",
    "            cv2.line(img, (x1, y1), (x2, y2), color, thickness)"
   ]
  },
  {
   "cell_type": "code",
   "execution_count": null,
   "metadata": {},
   "outputs": [],
   "source": [
    "def hough_lines(img, rho, theta, threshold, min_line_len, max_line_gap):\n",
    "    lines = cv2.HoughLinesP(img, rho, theta, threshold, np.array([]), minLineLength=min_line_len, maxLineGap=max_line_gap)\n",
    "    line_img = np.zeros((img.shape[0], img.shape[1], 3), dtype=np.uint8)\n",
    "    draw_lines(line_img, lines)\n",
    "\n",
    "    return line_img\n",
    "\n",
    "rho = 2\n",
    "theta = np.pi/180\n",
    "threshold = 90\n",
    "min_line_len = 50\n",
    "max_line_gap = 150\n",
    "\n",
    "lines = hough_lines(mask, rho, theta, threshold, min_line_len, max_line_gap)\n",
    "\n",
    "plt.figure(figsize=(10,8))\n",
    "plt.imshow(lines, cmap='gray')\n",
    "plt.show()"
   ]
  },
  {
   "cell_type": "code",
   "execution_count": null,
   "metadata": {},
   "outputs": [],
   "source": [
    "def weighted_img(img, initial_img, x=0.8, y=1., z=0.):\n",
    "    return cv2.addWeighted(initial_img, x, img, y, z)\n",
    "\n",
    "lines_edges = weighted_img(lines, img, x=0.8, y=1., z=0.)\n",
    "\n",
    "plt.figure(figsize=(10,8))\n",
    "plt.imshow(lines_edges)\n",
    "plt.show()"
   ]
  }
 ],
 "metadata": {
  "kernelspec": {
   "display_name": "Python 3",
   "language": "python",
   "name": "python3"
  },
  "language_info": {
   "codemirror_mode": {
    "name": "ipython",
    "version": 3
   },
   "file_extension": ".py",
   "mimetype": "text/x-python",
   "name": "python",
   "nbconvert_exporter": "python",
   "pygments_lexer": "ipython3",
   "version": "3.10.12"
  }
 },
 "nbformat": 4,
 "nbformat_minor": 2
}
